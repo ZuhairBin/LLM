{
 "cells": [
  {
   "cell_type": "code",
   "execution_count": 1,
   "id": "f91b9d5b-01ac-4325-9566-dac41a00f0ae",
   "metadata": {},
   "outputs": [],
   "source": [
    "import os\n",
    "from IPython.display import display, Markdown\n",
    "import gradio\n",
    "from openai import OpenAI\n",
    "from dotenv import load_dotenv"
   ]
  },
  {
   "cell_type": "code",
   "execution_count": 2,
   "id": "2b1762f1-e98f-4e56-8156-d04fb5710bbf",
   "metadata": {},
   "outputs": [],
   "source": [
    "load_dotenv()\n",
    "key=os.getenv(\"DEEPSEEK_API_KEY\")\n",
    "if not key:\n",
    "    raise ValueError(\"DEEPSEEK_API_KEY environment variable not set.\")"
   ]
  },
  {
   "cell_type": "code",
   "execution_count": 3,
   "id": "d1acd15b-dda5-4927-b002-d0ba3e9a9b5e",
   "metadata": {},
   "outputs": [],
   "source": [
    "client = OpenAI(api_key=key, base_url=\"https://api.deepseek.com\")\n"
   ]
  },
  {
   "cell_type": "code",
   "execution_count": 4,
   "id": "12c70e14-23fe-4bb9-8f4c-39c704c260ea",
   "metadata": {},
   "outputs": [],
   "source": [
    "SYSTEM_MESSAGE = \"You are a helpful and friendly AI assistant. You provide concise and accurate answers.\"\n"
   ]
  },
  {
   "cell_type": "code",
   "execution_count": 5,
   "id": "8cd9f027-81ca-491f-a341-8864520f9b10",
   "metadata": {},
   "outputs": [],
   "source": [
    "def predict_ai(message, history):\n",
    "    messages=[{\"role\":\"system\" , \"content\":SYSTEM_MESSAGE}] #messages are dict's in a list \n",
    "    for human, ai in history:\n",
    "        messages.append({\"role\":\"user\",\"content\":human})\n",
    "        messages.append({\"role\":\"assistant\",\"content\":ai})\n",
    "    messages.append({\"role\": \"user\", \"content\": message}) # Add the current user message\n",
    "    #making stream api calls to client \n",
    "    stream=client.chat.completions.create(\n",
    "        model=\"deepseek-chat\",\n",
    "        messages=messages,\n",
    "        stream=True,\n",
    "        temperature=0.8,\n",
    "        max_tokens=500\n",
    "    )\n",
    "    response_content = \"\"\n",
    "    # Iterate over the streamed chunks and yield them\n",
    "    for chunk in stream:\n",
    "        delta = chunk.choices[0].delta.content or \"\"\n",
    "        response_content += delta\n",
    "        yield response_content # Yield the accumulating response"
   ]
  },
  {
   "cell_type": "code",
   "execution_count": 19,
   "id": "5195aa0b-bf70-4626-b24f-3d92a1a61eca",
   "metadata": {},
   "outputs": [],
   "source": [
    "chatbot=gradio.ChatInterface(\n",
    "    fn=predict_ai,\n",
    "    title=\"Simple AI Assistant\",\n",
    "    description=\"Ask me anything!\",\n",
    "    theme=\"soft\",\n",
    "    type=\"messages\",\n",
    "    \n",
    ")"
   ]
  },
  {
   "cell_type": "code",
   "execution_count": 20,
   "id": "85760050-2cab-488d-b332-e5b23b04708a",
   "metadata": {},
   "outputs": [
    {
     "name": "stdout",
     "output_type": "stream",
     "text": [
      "* Running on local URL:  http://127.0.0.1:7864\n",
      "* To create a public link, set `share=True` in `launch()`.\n"
     ]
    },
    {
     "data": {
      "text/html": [
       "<div><iframe src=\"http://127.0.0.1:7864/\" width=\"100%\" height=\"500\" allow=\"autoplay; camera; microphone; clipboard-read; clipboard-write;\" frameborder=\"0\" allowfullscreen></iframe></div>"
      ],
      "text/plain": [
       "<IPython.core.display.HTML object>"
      ]
     },
     "metadata": {},
     "output_type": "display_data"
    }
   ],
   "source": [
    "if __name__==\"__main__\":\n",
    "    chatbot.launch()\n",
    "    "
   ]
  },
  {
   "cell_type": "code",
   "execution_count": null,
   "id": "8dd3e4fc-a916-4ac8-99c1-a9f69867e93d",
   "metadata": {},
   "outputs": [],
   "source": []
  }
 ],
 "metadata": {
  "kernelspec": {
   "display_name": "Python 3 (ipykernel)",
   "language": "python",
   "name": "python3"
  },
  "language_info": {
   "codemirror_mode": {
    "name": "ipython",
    "version": 3
   },
   "file_extension": ".py",
   "mimetype": "text/x-python",
   "name": "python",
   "nbconvert_exporter": "python",
   "pygments_lexer": "ipython3",
   "version": "3.10.18"
  }
 },
 "nbformat": 4,
 "nbformat_minor": 5
}
